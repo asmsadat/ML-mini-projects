{
  "nbformat": 4,
  "nbformat_minor": 0,
  "metadata": {
    "colab": {
      "provenance": []
    },
    "kernelspec": {
      "name": "python3",
      "display_name": "Python 3"
    },
    "language_info": {
      "name": "python"
    }
  },
  "cells": [
    {
      "cell_type": "code",
      "execution_count": null,
      "metadata": {
        "id": "apwtNqR5p4Uu"
      },
      "outputs": [],
      "source": [
        "import os\n",
        "import cv2\n",
        "import numpy as np\n",
        "import tensorflow as tf\n",
        "import matplotlib.pyplot as plt"
      ]
    },
    {
      "cell_type": "code",
      "source": [
        "# Loading the MNIST data set with samples and splitting it\n",
        "mnist = tf.keras.datasets.mnist\n",
        "(X_train, y_train), (X_test, y_test) = mnist.load_data()\n",
        "\n",
        "# Normalizing the data (making length = 1)\n",
        "X_train = tf.keras.utils.normalize(X_train, axis=1)\n",
        "X_test = tf.keras.utils.normalize(X_test, axis=1)"
      ],
      "metadata": {
        "colab": {
          "base_uri": "https://localhost:8080/"
        },
        "id": "pdcCwoORqzQ0",
        "outputId": "03d1d3a2-5361-4386-f92b-cceb9a2da4f5"
      },
      "execution_count": null,
      "outputs": [
        {
          "output_type": "stream",
          "name": "stdout",
          "text": [
            "Downloading data from https://storage.googleapis.com/tensorflow/tf-keras-datasets/mnist.npz\n",
            "11490434/11490434 [==============================] - 0s 0us/step\n"
          ]
        }
      ]
    },
    {
      "cell_type": "code",
      "source": [
        "# Create a neural network model\n",
        "# Add one flattened input layer for the pixels\n",
        "# Add two dense hidden layers\n",
        "# Add one dense output layer for the 10 digits\n",
        "model = tf.keras.models.Sequential()\n",
        "model.add(tf.keras.layers.Flatten())\n",
        "model.add(tf.keras.layers.Dense(units=128, activation=tf.nn.relu))\n",
        "model.add(tf.keras.layers.Dense(units=128, activation=tf.nn.relu))\n",
        "model.add(tf.keras.layers.Dense(units=10, activation=tf.nn.softmax))\n",
        "\n",
        "# Compiling and optimizing model\n",
        "model.compile(optimizer='adam', loss='sparse_categorical_crossentropy', metrics=['accuracy'])\n",
        "\n",
        "# Training the model\n",
        "model.fit(X_train, y_train, epochs=4)\n",
        "\n",
        "# Evaluating the model\n",
        "val_loss, val_acc = model.evaluate(X_test, y_test)\n",
        "print(val_loss)\n",
        "print(val_acc)\n",
        "\n",
        "# Saving the model\n",
        "model.save('handwritten_digits.model')"
      ],
      "metadata": {
        "colab": {
          "base_uri": "https://localhost:8080/"
        },
        "id": "RTMj2XzFrWZJ",
        "outputId": "4b09ef12-1157-4ac1-9e16-59fafe68703d"
      },
      "execution_count": null,
      "outputs": [
        {
          "output_type": "stream",
          "name": "stdout",
          "text": [
            "Epoch 1/4\n",
            "1875/1875 [==============================] - 14s 7ms/step - loss: 0.2658 - accuracy: 0.9203\n",
            "Epoch 2/4\n",
            "1875/1875 [==============================] - 12s 6ms/step - loss: 0.1108 - accuracy: 0.9656\n",
            "Epoch 3/4\n",
            "1875/1875 [==============================] - 14s 7ms/step - loss: 0.0743 - accuracy: 0.9767\n",
            "Epoch 4/4\n",
            "1875/1875 [==============================] - 9s 5ms/step - loss: 0.0533 - accuracy: 0.9832\n",
            "313/313 [==============================] - 1s 3ms/step - loss: 0.0854 - accuracy: 0.9757\n",
            "0.08544221520423889\n",
            "0.9757000207901001\n"
          ]
        }
      ]
    },
    {
      "cell_type": "code",
      "source": [
        "# Load custom images and predict them\n",
        "image_number = 1\n",
        "#/content/drive/MyDrive/digits/digit1.png\n",
        "while os.path.isfile('/content/drive/MyDrive/digits/digit{}.png'.format(image_number)):\n",
        "  try:\n",
        "    img = cv2.imread('/content/drive/MyDrive/digits/digit{}.png'.format(image_number))[:,:,0]\n",
        "    img = np.invert(np.array([img]))\n",
        "    prediction = model.predict(img)\n",
        "    print(\"The number is {}\".format(np.argmax(prediction)))\n",
        "    plt.imshow(img[0], cmap=plt.cm.binary)\n",
        "    plt.show()\n",
        "    image_number += 1\n",
        "  except:\n",
        "    print(\"Error reading image! Proceeding with next image...\")\n",
        "    image_number += 1"
      ],
      "metadata": {
        "id": "c1F6wl5psGY1"
      },
      "execution_count": null,
      "outputs": []
    },
    {
      "cell_type": "code",
      "source": [
        "img = cv2.imread('/content/drive/MyDrive/digits/digit1.png')[:,:,0]\n",
        "img = np.invert(np.array([img]))\n",
        "prediction = model.predict(img)\n",
        "print(\"The number is {}\".format(np.argmax(prediction)))\n",
        "plt.imshow(img[0], cmap=plt.cm.binary)\n",
        "plt.show()"
      ],
      "metadata": {
        "colab": {
          "base_uri": "https://localhost:8080/",
          "height": 302
        },
        "id": "NK96It4fZBge",
        "outputId": "84a23c97-0bb4-4a9c-c3ea-1a88129c4a6c"
      },
      "execution_count": null,
      "outputs": [
        {
          "output_type": "stream",
          "name": "stdout",
          "text": [
            "1/1 [==============================] - 0s 94ms/step\n",
            "The number is 7\n"
          ]
        },
        {
          "output_type": "display_data",
          "data": {
            "text/plain": [
              "<Figure size 432x288 with 1 Axes>"
            ],
            "image/png": "[encoded data removed]"
          },
          "metadata": {
            "needs_background": "light"
          }
        }
      ]
    }
  ]
}