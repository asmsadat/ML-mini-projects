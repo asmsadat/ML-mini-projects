{
  "nbformat": 4,
  "nbformat_minor": 0,
  "metadata": {
    "colab": {
      "provenance": []
    },
    "kernelspec": {
      "name": "python3",
      "display_name": "Python 3"
    },
    "language_info": {
      "name": "python"
    }
  },
  "cells": [
    {
      "cell_type": "code",
      "execution_count": null,
      "metadata": {
        "colab": {
          "base_uri": "https://localhost:8080/"
        },
        "id": "knL4yey1CsmW",
        "outputId": "4375a24b-4f76-49ce-c4dc-09eaa84b7ed4"
      },
      "outputs": [
        {
          "output_type": "stream",
          "name": "stdout",
          "text": [
            "Mounted at /content/drive\n"
          ]
        }
      ],
      "source": [
        "from google.colab import drive\n",
        "drive.mount('/content/drive')"
      ]
    },
    {
      "cell_type": "code",
      "source": [
        "import os\n",
        "import cv2\n",
        "import numpy as np\n",
        "from sklearn.model_selection import train_test_split\n",
        "from keras.models import Sequential\n",
        "from keras.layers import Conv2D, MaxPooling2D, Flatten, Dense\n",
        "from keras.utils import to_categorical"
      ],
      "metadata": {
        "id": "5NWPQWexCzeo"
      },
      "execution_count": null,
      "outputs": []
    },
    {
      "cell_type": "code",
      "source": [
        "dataset_path = '/content/drive/MyDrive/DIP/Shells_or_Pebbles'"
      ],
      "metadata": {
        "id": "erC9EqJgC1PY"
      },
      "execution_count": null,
      "outputs": []
    },
    {
      "cell_type": "code",
      "source": [
        "# Load images and labels from the dataset\n",
        "def load_dataset():\n",
        "    images = []\n",
        "    labels = []\n",
        "    for label in os.listdir(dataset_path):\n",
        "        label_path = os.path.join(dataset_path, label)\n",
        "        for image_file in os.listdir(label_path):\n",
        "            image_path = os.path.join(label_path, image_file)\n",
        "            image = cv2.imread(image_path)\n",
        "            image = cv2.resize(image, (64, 64))  # Resize the image to a desired size\n",
        "            images.append(image)\n",
        "            labels.append(label)\n",
        "    return np.array(images), np.array(labels)"
      ],
      "metadata": {
        "id": "-HPo2QmcC297"
      },
      "execution_count": null,
      "outputs": []
    },
    {
      "cell_type": "code",
      "source": [
        "# Extract color histogram features from images\n",
        "def extract_color_histogram(image):\n",
        "    hsv_image = cv2.cvtColor(image, cv2.COLOR_BGR2HSV)\n",
        "    hist = cv2.calcHist([hsv_image], [0, 1, 2], None, [8, 8, 8], [0, 180, 0, 256, 0, 256])\n",
        "    hist = cv2.normalize(hist, hist).flatten()\n",
        "    return hist"
      ],
      "metadata": {
        "id": "Sot-fXOqC4uy"
      },
      "execution_count": null,
      "outputs": []
    },
    {
      "cell_type": "code",
      "source": [
        "# Load the dataset\n",
        "images, labels = load_dataset()"
      ],
      "metadata": {
        "id": "cDP-Oc1sC6up"
      },
      "execution_count": null,
      "outputs": []
    },
    {
      "cell_type": "code",
      "source": [
        "labels"
      ],
      "metadata": {
        "colab": {
          "base_uri": "https://localhost:8080/"
        },
        "id": "Talet5QsC8tt",
        "outputId": "b9c5662a-7862-47de-c6cf-3e75a2a523d4"
      },
      "execution_count": null,
      "outputs": [
        {
          "output_type": "execute_result",
          "data": {
            "text/plain": [
              "array(['Shells', 'Shells', 'Shells', ..., 'Pebbles', 'Pebbles', 'Pebbles'],\n",
              "      dtype='<U7')"
            ]
          },
          "metadata": {},
          "execution_count": 7
        }
      ]
    },
    {
      "cell_type": "code",
      "source": [
        "# Extract color histogram features for each image\n",
        "features = []\n",
        "for image in images:\n",
        "    hist = extract_color_histogram(image)\n",
        "    features.append(hist)\n",
        "features = np.array(features)"
      ],
      "metadata": {
        "id": "B2Z0wZ_GC-hE"
      },
      "execution_count": null,
      "outputs": []
    },
    {
      "cell_type": "code",
      "source": [
        "# Reshape the features array to 2D\n",
        "n_samples = features.shape[0]\n",
        "features = features.reshape(n_samples, -1)"
      ],
      "metadata": {
        "id": "F8yPv5msDAws"
      },
      "execution_count": null,
      "outputs": []
    },
    {
      "cell_type": "code",
      "source": [
        "#prev\n",
        "print(\"Features shape:\", features.shape)\n",
        "print(\"Labels shape:\", labels.shape)"
      ],
      "metadata": {
        "colab": {
          "base_uri": "https://localhost:8080/"
        },
        "id": "UIEM6SXpDClh",
        "outputId": "e6dd17e1-622f-4729-d2a1-359cb2a31c45"
      },
      "execution_count": null,
      "outputs": [
        {
          "output_type": "stream",
          "name": "stdout",
          "text": [
            "Features shape: (4284, 512)\n",
            "Labels shape: (4284,)\n"
          ]
        }
      ]
    },
    {
      "cell_type": "code",
      "source": [
        "#prev\n",
        "y_train = (labels == 'Shells').astype(int)"
      ],
      "metadata": {
        "id": "Kkj4E_3EDE4j"
      },
      "execution_count": null,
      "outputs": []
    },
    {
      "cell_type": "code",
      "source": [
        "# Split the dataset into training and testing sets\n",
        "X_train, X_test, y_train, y_test = train_test_split(features, labels, test_size=0.2, random_state=42)"
      ],
      "metadata": {
        "id": "TNwwXRLjDI4K"
      },
      "execution_count": null,
      "outputs": []
    },
    {
      "cell_type": "code",
      "source": [
        "# Convert labels to binary format (0 or 1)\n",
        "y_train = (y_train == 'Shells').astype(int)\n",
        "y_test = (y_test == 'Pebbles').astype(int)"
      ],
      "metadata": {
        "id": "WrBV8OOFVWXz"
      },
      "execution_count": null,
      "outputs": []
    },
    {
      "cell_type": "code",
      "source": [
        "# Reshape features for CNN input (convert 2D to 3D)\n",
        "X_train = X_train.reshape(X_train.shape[0], 8, 8, 8, 1)\n",
        "X_test = X_test.reshape(X_test.shape[0], 8, 8, 8, 1)"
      ],
      "metadata": {
        "id": "7UP2U44nVTdS"
      },
      "execution_count": null,
      "outputs": []
    },
    {
      "cell_type": "code",
      "source": [
        "#chatgpt\n",
        "# Build the CNN model\n",
        "model = Sequential()\n",
        "model.add(Dense(64, activation='relu', input_shape=(512,)))  # Assuming 512 histogram bins\n",
        "model.add(Dense(32, activation='relu'))\n",
        "model.add(Dense(1, activation='sigmoid'))\n",
        "\n",
        "# Compile the model\n",
        "model.compile(loss='binary_crossentropy', optimizer='adam', metrics=['accuracy'])\n",
        "\n",
        "# Train the model\n",
        "model.fit(X_train, y_train, batch_size=32, epochs=10, validation_split=0.1)"
      ],
      "metadata": {
        "id": "furHii45VeKc"
      },
      "execution_count": null,
      "outputs": []
    },
    {
      "cell_type": "code",
      "source": [
        "import tensorflow as tf\n",
        "from tensorflow import keras\n",
        "from tensorflow.keras import layers\n",
        "\n",
        "# Define the CNN model\n",
        "model = keras.Sequential([\n",
        "    keras.layers.Conv2D(32, (3, 3), activation='relu', input_shape=(100, 100, 1)),\n",
        "    keras.layers.MaxPooling2D((2, 2)),\n",
        "    keras.layers.Conv2D(64, (3, 3), activation='relu'),\n",
        "    keras.layers.MaxPooling2D((2, 2)),\n",
        "    keras.layers.Conv2D(128, (3, 3), activation='relu'),\n",
        "    keras.layers.MaxPooling2D((2, 2)),\n",
        "    keras.layers.Flatten(),\n",
        "    keras.layers.Dense(128, activation='relu'),\n",
        "    keras.layers.Dense(1, activation='sigmoid')\n",
        "])\n",
        "\n",
        "# Compile the model\n",
        "model.compile(optimizer='adam', loss='binary_crossentropy', metrics=['accuracy'])\n",
        "\n",
        "# Train the model\n",
        "model.fit(X_train, y_train, epochs=10, batch_size=32, validation_data=(X_test, y_test))"
      ],
      "metadata": {
        "id": "XRHQs7unbxsM"
      },
      "execution_count": null,
      "outputs": []
    },
    {
      "cell_type": "code",
      "source": [
        "# Evaluate the model\n",
        "accuracy = model.evaluate(X_test, y_test)[1]\n",
        "print(\"Accuracy:\", accuracy)"
      ],
      "metadata": {
        "id": "fcwGZPqUVstJ"
      },
      "execution_count": null,
      "outputs": []
    },
    {
      "cell_type": "code",
      "source": [
        "# Predict a single image\n",
        "def predict_single_image(image_path):\n",
        "    image = cv2.imread(image_path)\n",
        "    image = cv2.resize(image, (64, 64))  # Resize the image to a desired size\n",
        "    hist = extract_color_histogram(image)\n",
        "    hist = hist.reshape(1, -1)\n",
        "    hist = hist.reshape(1, 8, 8, 8, 1)  # Reshape for CNN input\n",
        "    prediction = model.predict(hist)\n",
        "    if prediction[0][0] >= 0.5:\n",
        "        return 'Shells'\n",
        "    else:\n",
        "        return 'Pebbles'"
      ],
      "metadata": {
        "id": "CeX_ffk4VfMB"
      },
      "execution_count": null,
      "outputs": []
    },
    {
      "cell_type": "code",
      "source": [
        "# Path to the image you want to predict\n",
        "image_to_predict = '/content/drive/MyDrive/DIP_Lab/Lab3/Shells_or_Pebbles/Pebbles/Pebbles (1).jpg'\n",
        "\n",
        "# Predict the class of the single image\n",
        "prediction = predict_single_image(image_to_predict)\n",
        "print(\"Prediction:\", prediction)"
      ],
      "metadata": {
        "id": "krslMLzsVwoY"
      },
      "execution_count": null,
      "outputs": []
    }
  ]
}